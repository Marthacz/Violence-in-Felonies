{
 "cells": [
  {
   "cell_type": "code",
   "execution_count": 1,
   "metadata": {},
   "outputs": [],
   "source": [
    "#This was a group project, I primarily focused on all of the code here. \n",
    "#The dataset shows different variables that contribute to violent and non-violent felonies"
   ]
  },
  {
   "cell_type": "code",
   "execution_count": 2,
   "metadata": {},
   "outputs": [
    {
     "name": "stdout",
     "output_type": "stream",
     "text": [
      "Populating the interactive namespace from numpy and matplotlib\n"
     ]
    },
    {
     "data": {
      "text/plain": [
       "Index(['objectid', 'identifier', 'occurrence_date', 'day_of_week',\n",
       "       'occurrence_month', 'occurrence_day', 'occurrence_year',\n",
       "       'occurrence_hour', 'compstat_month', 'compstat_day', 'compstat_year',\n",
       "       'offense', 'offense_classification', 'sector', 'precinct', 'borough',\n",
       "       'jurisdiction', 'xcoordinate', 'ycoordinate', 'location_1_zip',\n",
       "       'location_1_city', 'location_1_state', 'location_1_address',\n",
       "       'serialid'],\n",
       "      dtype='object')"
      ]
     },
     "execution_count": 2,
     "metadata": {},
     "output_type": "execute_result"
    }
   ],
   "source": [
    "from pandas import Series, DataFrame\n",
    "import pandas as pd\n",
    "from sklearn.model_selection import train_test_split\n",
    "from sklearn import tree\n",
    "\n",
    "#import dataset \n",
    "#Please make a free account and download the dataset here:\n",
    "# https://public.enigma.com/datasets/new-york-city-major-felony-incidents/9bff20f8-4476-4f20-9562-5c608872fadc\n",
    "%pylab inline\n",
    "df = pd.read_csv('felonydataset.csv')\n",
    "df.head()\n",
    "\n",
    "#Observations\n",
    "df.columns"
   ]
  },
  {
   "cell_type": "code",
   "execution_count": 3,
   "metadata": {},
   "outputs": [
    {
     "data": {
      "text/html": [
       "<div>\n",
       "<style scoped>\n",
       "    .dataframe tbody tr th:only-of-type {\n",
       "        vertical-align: middle;\n",
       "    }\n",
       "\n",
       "    .dataframe tbody tr th {\n",
       "        vertical-align: top;\n",
       "    }\n",
       "\n",
       "    .dataframe thead th {\n",
       "        text-align: right;\n",
       "    }\n",
       "</style>\n",
       "<table border=\"1\" class=\"dataframe\">\n",
       "  <thead>\n",
       "    <tr style=\"text-align: right;\">\n",
       "      <th></th>\n",
       "      <th>day_of_week</th>\n",
       "      <th>occurrence_month</th>\n",
       "      <th>occurrence_hour</th>\n",
       "      <th>offense</th>\n",
       "      <th>sector</th>\n",
       "      <th>precinct</th>\n",
       "      <th>borough</th>\n",
       "      <th>jurisdiction</th>\n",
       "    </tr>\n",
       "  </thead>\n",
       "  <tbody>\n",
       "    <tr>\n",
       "      <th>0</th>\n",
       "      <td>Saturday</td>\n",
       "      <td>Nov</td>\n",
       "      <td>2.0</td>\n",
       "      <td>GRAND LARCENY</td>\n",
       "      <td>H</td>\n",
       "      <td>84.0</td>\n",
       "      <td>BROOKLYN</td>\n",
       "      <td>N.Y. POLICE DEPT</td>\n",
       "    </tr>\n",
       "    <tr>\n",
       "      <th>1</th>\n",
       "      <td>Monday</td>\n",
       "      <td>Jul</td>\n",
       "      <td>12.0</td>\n",
       "      <td>GRAND LARCENY</td>\n",
       "      <td>G</td>\n",
       "      <td>1.0</td>\n",
       "      <td>MANHATTAN</td>\n",
       "      <td>N.Y. POLICE DEPT</td>\n",
       "    </tr>\n",
       "    <tr>\n",
       "      <th>2</th>\n",
       "      <td>Friday</td>\n",
       "      <td>Oct</td>\n",
       "      <td>11.0</td>\n",
       "      <td>GRAND LARCENY</td>\n",
       "      <td>D</td>\n",
       "      <td>9.0</td>\n",
       "      <td>MANHATTAN</td>\n",
       "      <td>N.Y. POLICE DEPT</td>\n",
       "    </tr>\n",
       "    <tr>\n",
       "      <th>3</th>\n",
       "      <td>Tuesday</td>\n",
       "      <td>Oct</td>\n",
       "      <td>9.0</td>\n",
       "      <td>GRAND LARCENY</td>\n",
       "      <td>C</td>\n",
       "      <td>24.0</td>\n",
       "      <td>MANHATTAN</td>\n",
       "      <td>N.Y. POLICE DEPT</td>\n",
       "    </tr>\n",
       "    <tr>\n",
       "      <th>4</th>\n",
       "      <td>Friday</td>\n",
       "      <td>Oct</td>\n",
       "      <td>11.0</td>\n",
       "      <td>BURGLARY</td>\n",
       "      <td>K</td>\n",
       "      <td>45.0</td>\n",
       "      <td>BRONX</td>\n",
       "      <td>N.Y. POLICE DEPT</td>\n",
       "    </tr>\n",
       "  </tbody>\n",
       "</table>\n",
       "</div>"
      ],
      "text/plain": [
       "  day_of_week occurrence_month  occurrence_hour        offense sector  \\\n",
       "0    Saturday              Nov              2.0  GRAND LARCENY      H   \n",
       "1      Monday              Jul             12.0  GRAND LARCENY      G   \n",
       "2      Friday              Oct             11.0  GRAND LARCENY      D   \n",
       "3     Tuesday              Oct              9.0  GRAND LARCENY      C   \n",
       "4      Friday              Oct             11.0       BURGLARY      K   \n",
       "\n",
       "   precinct    borough      jurisdiction  \n",
       "0      84.0   BROOKLYN  N.Y. POLICE DEPT  \n",
       "1       1.0  MANHATTAN  N.Y. POLICE DEPT  \n",
       "2       9.0  MANHATTAN  N.Y. POLICE DEPT  \n",
       "3      24.0  MANHATTAN  N.Y. POLICE DEPT  \n",
       "4      45.0      BRONX  N.Y. POLICE DEPT  "
      ]
     },
     "execution_count": 3,
     "metadata": {},
     "output_type": "execute_result"
    }
   ],
   "source": [
    "#What is object id? Is this the id of the felony?\n",
    "df['objectid'].value_counts()\n",
    "\n",
    "#Since there are some ids that occur more than 1 time in the dataset and there is no description, we decided to drop them.\n",
    "#Furthermore, we decided to drop features that we believe will not predict a felony, for example, the year that a felony occuried.\n",
    "#We also dropped features that had blank columns\n",
    "\n",
    "df = df.drop(['occurrence_date','occurrence_day','occurrence_year','objectid', 'identifier','location_1_zip', 'location_1_city', 'location_1_state', 'location_1_address','offense_classification','compstat_month', 'compstat_day','compstat_year', 'serialid', 'xcoordinate', 'ycoordinate'], axis = 1)\n",
    "df.head()\n"
   ]
  },
  {
   "cell_type": "code",
   "execution_count": 4,
   "metadata": {},
   "outputs": [
    {
     "data": {
      "text/plain": [
       "BROOKLYN         351517\n",
       "MANHATTAN        287812\n",
       "QUEENS           243802\n",
       "BRONX            207578\n",
       "STATEN ISLAND     32668\n",
       "Name: borough, dtype: int64"
      ]
     },
     "execution_count": 4,
     "metadata": {},
     "output_type": "execute_result"
    }
   ],
   "source": [
    "#Data Cleaning\n",
    "df.head(10)\n",
    "\n",
    "#Check if there are any unusual values \n",
    "df['jurisdiction'].value_counts()\n",
    "\n",
    "\n",
    "#The dataset manually has \"(null)\" - we want to change these to null values \n",
    "mask = (df['jurisdiction']) == \"(null)\"\n",
    "df.loc[mask,'jurisdiction'] = np.nan\n",
    "df['jurisdiction'].value_counts()\n",
    "\n",
    "#Day of week is clean\n",
    "df['day_of_week'].value_counts()\n",
    "#Occurrence_month is clean\n",
    "df['occurrence_month'].value_counts()\n",
    "\n",
    "#Occurence_hour is clean - we will later feature engineer this into 4 hour counts\n",
    "df['occurrence_hour'].value_counts()\n",
    "\n",
    "#Offense is clean\n",
    "df['offense'].value_counts()\n",
    "\n",
    "#Sector is clean-The dataset doesn't really tell us what sector is.\n",
    "#https://www1.nyc.gov/site/nypd/bureaus/patrol/precincts/66th-precinct.page\n",
    "#From this link, we can assume that precincts have different sectors\n",
    "df['sector'].value_counts()\n",
    "\n",
    "#Precinct Check - is clean\n",
    "df['precinct'].value_counts()\n",
    "\n",
    "#Borough is NOT CLEAN - has (null)\n",
    "df['borough'].value_counts()\n",
    "mask = (df['borough']) == \"(null)\"\n",
    "df.loc[mask,'borough'] = np.nan\n",
    "df['borough'].value_counts()\n",
    "\n",
    "\n"
   ]
  },
  {
   "cell_type": "code",
   "execution_count": 5,
   "metadata": {},
   "outputs": [
    {
     "name": "stdout",
     "output_type": "stream",
     "text": [
      "Length before 1123465\n",
      "Length after dropping null 1097805\n"
     ]
    }
   ],
   "source": [
    "#Drop nulls\n",
    "\n",
    "#Check length of df before dropping null\n",
    "print(\"Length before\",len(df))\n",
    "\n",
    "#Drop any row that has a null value \n",
    "df = df.dropna(how='any',axis=0) \n",
    "\n",
    "#Check length of df after dropping null\n",
    "print(\"Length after dropping null\", len(df))\n",
    "\n"
   ]
  },
  {
   "cell_type": "code",
   "execution_count": 6,
   "metadata": {},
   "outputs": [
    {
     "data": {
      "text/plain": [
       "(16, 20]    233971\n",
       "(12, 16]    225500\n",
       "(8, 12]     192429\n",
       "(20, 24]    152451\n",
       "(0, 4]      131476\n",
       "(4, 8]      106372\n",
       "Name: binned_hours, dtype: int64"
      ]
     },
     "execution_count": 6,
     "metadata": {},
     "output_type": "execute_result"
    }
   ],
   "source": [
    "#Feature Engineering Hours\n",
    "#We thought we could see trends in 4 hour chunks rather than each hour \n",
    "bins = [0, 4, 8, 12, 16, 20, 24]\n",
    "\n",
    "df['binned_hours'] = pd.cut(df['occurrence_hour'], bins = bins)\n",
    "df['binned_hours'].value_counts()"
   ]
  },
  {
   "cell_type": "code",
   "execution_count": 7,
   "metadata": {},
   "outputs": [
    {
     "data": {
      "text/plain": [
       "Index(['day_of_week', 'occurrence_month', 'occurrence_hour', 'offense',\n",
       "       'sector', 'precinct', 'borough', 'jurisdiction', 'binned_hours'],\n",
       "      dtype='object')"
      ]
     },
     "execution_count": 7,
     "metadata": {},
     "output_type": "execute_result"
    }
   ],
   "source": [
    "df.columns"
   ]
  },
  {
   "cell_type": "code",
   "execution_count": 8,
   "metadata": {},
   "outputs": [
    {
     "data": {
      "image/png": "[encoded data removed]",
      "text/plain": [
       "<matplotlib.figure.Figure at 0x7f4eb6d719b0>"
      ]
     },
     "metadata": {
      "needs_background": "light"
     },
     "output_type": "display_data"
    }
   ],
   "source": [
    "#Univariate analysis\n",
    "borough_counts = df['borough'].value_counts()\n",
    "borough_counts.plot(kind = 'bar')\n",
    "\n",
    "plt.title(\"Distribution of Boroughs\")\n",
    "\n",
    "#Most common borough that has felonies is Brooklyn\n",
    "plt.savefig('Distribution of Boroughs.png')\n"
   ]
  },
  {
   "cell_type": "code",
   "execution_count": 9,
   "metadata": {},
   "outputs": [
    {
     "data": {
      "text/plain": [
       "Text(0.5,1,'Top 10 Precincts with Most Felonies')"
      ]
     },
     "execution_count": 9,
     "metadata": {},
     "output_type": "execute_result"
    },
    {
     "data": {
      "image/png": "[encoded data removed]",
      "text/plain": [
       "<matplotlib.figure.Figure at 0x7f4e64a952b0>"
      ]
     },
     "metadata": {
      "needs_background": "light"
     },
     "output_type": "display_data"
    }
   ],
   "source": [
    "precinct_counts = df['precinct'].value_counts()[::10].plot(kind='bar')\n",
    "plt.title(\"Top 10 Precincts with Most Felonies\")"
   ]
  },
  {
   "cell_type": "code",
   "execution_count": 10,
   "metadata": {},
   "outputs": [
    {
     "data": {
      "text/plain": [
       "Text(0.5,1,'Count of felonies with respect to the day of the week')"
      ]
     },
     "execution_count": 10,
     "metadata": {},
     "output_type": "execute_result"
    },
    {
     "data": {
      "image/png": "[encoded data removed]",
      "text/plain": [
       "<matplotlib.figure.Figure at 0x7f4e668619e8>"
      ]
     },
     "metadata": {
      "needs_background": "light"
     },
     "output_type": "display_data"
    }
   ],
   "source": [
    "day_counts = df['day_of_week'].value_counts()\n",
    "day_counts.plot(kind = 'bar')\n",
    "\n",
    "plt.title('Count of felonies with respect to the day of the week')"
   ]
  },
  {
   "cell_type": "code",
   "execution_count": 11,
   "metadata": {},
   "outputs": [
    {
     "data": {
      "text/plain": [
       "Text(0.5,1,'Count of felonies with respect to month')"
      ]
     },
     "execution_count": 11,
     "metadata": {},
     "output_type": "execute_result"
    },
    {
     "data": {
      "image/png": "[encoded data removed]",
      "text/plain": [
       "<matplotlib.figure.Figure at 0x7f4e6474c518>"
      ]
     },
     "metadata": {
      "needs_background": "light"
     },
     "output_type": "display_data"
    }
   ],
   "source": [
    "month_counts = df['occurrence_month'].value_counts()\n",
    "month_counts.plot(kind = 'bar')\n",
    "\n",
    "plt.title('Count of felonies with respect to month')"
   ]
  },
  {
   "cell_type": "code",
   "execution_count": 12,
   "metadata": {},
   "outputs": [
    {
     "data": {
      "text/plain": [
       "Text(0.5,1,'Count of felonies with respect to four-hour intervals throughout the day')"
      ]
     },
     "execution_count": 12,
     "metadata": {},
     "output_type": "execute_result"
    },
    {
     "data": {
      "image/png": "[encoded data removed]",
      "text/plain": [
       "<matplotlib.figure.Figure at 0x7f4e64a9a7f0>"
      ]
     },
     "metadata": {
      "needs_background": "light"
     },
     "output_type": "display_data"
    }
   ],
   "source": [
    "hour_counts = df['binned_hours'].value_counts()\n",
    "hour_counts.plot(kind = 'bar')\n",
    "\n",
    "# each x-axis label corresponds to each a four-hour interval\n",
    "\n",
    "\n",
    "plt.title('Count of felonies with respect to four-hour intervals throughout the day')"
   ]
  },
  {
   "cell_type": "code",
   "execution_count": 13,
   "metadata": {},
   "outputs": [
    {
     "data": {
      "text/plain": [
       "Text(0.5,1,'Count of each felony')"
      ]
     },
     "execution_count": 13,
     "metadata": {},
     "output_type": "execute_result"
    },
    {
     "data": {
      "image/png": "[encoded data removed]",
      "text/plain": [
       "<matplotlib.figure.Figure at 0x7f4e68ed84e0>"
      ]
     },
     "metadata": {
      "needs_background": "light"
     },
     "output_type": "display_data"
    }
   ],
   "source": [
    "offense_counts = df['offense'].value_counts()\n",
    "offense_counts\n",
    "offense_counts.plot(kind = 'bar')\n",
    "\n",
    "plt.title('Count of each felony')"
   ]
  },
  {
   "cell_type": "code",
   "execution_count": 14,
   "metadata": {},
   "outputs": [
    {
     "data": {
      "text/plain": [
       "Text(0.5,1,'Distribution of dataset with respect to offense')"
      ]
     },
     "execution_count": 14,
     "metadata": {},
     "output_type": "execute_result"
    },
    {
     "data": {
      "image/png": "[encoded data removed]",
      "text/plain": [
       "<matplotlib.figure.Figure at 0x7f4e67f89a58>"
      ]
     },
     "metadata": {},
     "output_type": "display_data"
    }
   ],
   "source": [
    "groups= df.groupby('offense')\n",
    "\n",
    "groups.size().plot.pie()\n",
    "# The slices will be ordered and plotted counter-clockwise.\n",
    "\n",
    "plt.title(\"Distribution of dataset with respect to offense\")"
   ]
  },
  {
   "cell_type": "code",
   "execution_count": 15,
   "metadata": {
    "scrolled": true
   },
   "outputs": [
    {
     "name": "stdout",
     "output_type": "stream",
     "text": [
      "Count of each felony with respect to the day of the week\n"
     ]
    },
    {
     "data": {
      "text/html": [
       "<div>\n",
       "<style scoped>\n",
       "    .dataframe tbody tr th:only-of-type {\n",
       "        vertical-align: middle;\n",
       "    }\n",
       "\n",
       "    .dataframe tbody tr th {\n",
       "        vertical-align: top;\n",
       "    }\n",
       "\n",
       "    .dataframe thead th {\n",
       "        text-align: right;\n",
       "    }\n",
       "</style>\n",
       "<table border=\"1\" class=\"dataframe\">\n",
       "  <thead>\n",
       "    <tr style=\"text-align: right;\">\n",
       "      <th></th>\n",
       "      <th></th>\n",
       "      <th>day_of_week</th>\n",
       "    </tr>\n",
       "    <tr>\n",
       "      <th>offense</th>\n",
       "      <th>day_of_week</th>\n",
       "      <th></th>\n",
       "    </tr>\n",
       "  </thead>\n",
       "  <tbody>\n",
       "    <tr>\n",
       "      <th rowspan=\"7\" valign=\"top\">BURGLARY</th>\n",
       "      <th>Friday</th>\n",
       "      <td>34046</td>\n",
       "    </tr>\n",
       "    <tr>\n",
       "      <th>Monday</th>\n",
       "      <td>28288</td>\n",
       "    </tr>\n",
       "    <tr>\n",
       "      <th>Saturday</th>\n",
       "      <td>22518</td>\n",
       "    </tr>\n",
       "    <tr>\n",
       "      <th>Sunday</th>\n",
       "      <td>18327</td>\n",
       "    </tr>\n",
       "    <tr>\n",
       "      <th>Thursday</th>\n",
       "      <td>28497</td>\n",
       "    </tr>\n",
       "    <tr>\n",
       "      <th>Tuesday</th>\n",
       "      <td>27562</td>\n",
       "    </tr>\n",
       "    <tr>\n",
       "      <th>Wednesday</th>\n",
       "      <td>29164</td>\n",
       "    </tr>\n",
       "    <tr>\n",
       "      <th rowspan=\"7\" valign=\"top\">FELONY ASSAULT</th>\n",
       "      <th>Friday</th>\n",
       "      <td>24753</td>\n",
       "    </tr>\n",
       "    <tr>\n",
       "      <th>Monday</th>\n",
       "      <td>23399</td>\n",
       "    </tr>\n",
       "    <tr>\n",
       "      <th>Saturday</th>\n",
       "      <td>31348</td>\n",
       "    </tr>\n",
       "    <tr>\n",
       "      <th>Sunday</th>\n",
       "      <td>32622</td>\n",
       "    </tr>\n",
       "    <tr>\n",
       "      <th>Thursday</th>\n",
       "      <td>22672</td>\n",
       "    </tr>\n",
       "    <tr>\n",
       "      <th>Tuesday</th>\n",
       "      <td>22993</td>\n",
       "    </tr>\n",
       "    <tr>\n",
       "      <th>Wednesday</th>\n",
       "      <td>22578</td>\n",
       "    </tr>\n",
       "    <tr>\n",
       "      <th rowspan=\"7\" valign=\"top\">GRAND LARCENY</th>\n",
       "      <th>Friday</th>\n",
       "      <td>68063</td>\n",
       "    </tr>\n",
       "    <tr>\n",
       "      <th>Monday</th>\n",
       "      <td>60433</td>\n",
       "    </tr>\n",
       "    <tr>\n",
       "      <th>Saturday</th>\n",
       "      <td>58210</td>\n",
       "    </tr>\n",
       "    <tr>\n",
       "      <th>Sunday</th>\n",
       "      <td>49075</td>\n",
       "    </tr>\n",
       "    <tr>\n",
       "      <th>Thursday</th>\n",
       "      <td>61065</td>\n",
       "    </tr>\n",
       "    <tr>\n",
       "      <th>Tuesday</th>\n",
       "      <td>59818</td>\n",
       "    </tr>\n",
       "    <tr>\n",
       "      <th>Wednesday</th>\n",
       "      <td>60861</td>\n",
       "    </tr>\n",
       "    <tr>\n",
       "      <th rowspan=\"7\" valign=\"top\">GRAND LARCENY OF MOTOR VEHICLE</th>\n",
       "      <th>Friday</th>\n",
       "      <td>15526</td>\n",
       "    </tr>\n",
       "    <tr>\n",
       "      <th>Monday</th>\n",
       "      <td>14411</td>\n",
       "    </tr>\n",
       "    <tr>\n",
       "      <th>Saturday</th>\n",
       "      <td>14450</td>\n",
       "    </tr>\n",
       "    <tr>\n",
       "      <th>Sunday</th>\n",
       "      <td>13542</td>\n",
       "    </tr>\n",
       "    <tr>\n",
       "      <th>Thursday</th>\n",
       "      <td>14109</td>\n",
       "    </tr>\n",
       "    <tr>\n",
       "      <th>Tuesday</th>\n",
       "      <td>13813</td>\n",
       "    </tr>\n",
       "    <tr>\n",
       "      <th>Wednesday</th>\n",
       "      <td>13984</td>\n",
       "    </tr>\n",
       "    <tr>\n",
       "      <th rowspan=\"7\" valign=\"top\">MURDER &amp; NON-NEGL. MANSLAUGHTE</th>\n",
       "      <th>Friday</th>\n",
       "      <td>631</td>\n",
       "    </tr>\n",
       "    <tr>\n",
       "      <th>Monday</th>\n",
       "      <td>591</td>\n",
       "    </tr>\n",
       "    <tr>\n",
       "      <th>Saturday</th>\n",
       "      <td>811</td>\n",
       "    </tr>\n",
       "    <tr>\n",
       "      <th>Sunday</th>\n",
       "      <td>829</td>\n",
       "    </tr>\n",
       "    <tr>\n",
       "      <th>Thursday</th>\n",
       "      <td>539</td>\n",
       "    </tr>\n",
       "    <tr>\n",
       "      <th>Tuesday</th>\n",
       "      <td>538</td>\n",
       "    </tr>\n",
       "    <tr>\n",
       "      <th>Wednesday</th>\n",
       "      <td>536</td>\n",
       "    </tr>\n",
       "    <tr>\n",
       "      <th rowspan=\"7\" valign=\"top\">RAPE</th>\n",
       "      <th>Friday</th>\n",
       "      <td>2026</td>\n",
       "    </tr>\n",
       "    <tr>\n",
       "      <th>Monday</th>\n",
       "      <td>1796</td>\n",
       "    </tr>\n",
       "    <tr>\n",
       "      <th>Saturday</th>\n",
       "      <td>2264</td>\n",
       "    </tr>\n",
       "    <tr>\n",
       "      <th>Sunday</th>\n",
       "      <td>2191</td>\n",
       "    </tr>\n",
       "    <tr>\n",
       "      <th>Thursday</th>\n",
       "      <td>1741</td>\n",
       "    </tr>\n",
       "    <tr>\n",
       "      <th>Tuesday</th>\n",
       "      <td>1734</td>\n",
       "    </tr>\n",
       "    <tr>\n",
       "      <th>Wednesday</th>\n",
       "      <td>1733</td>\n",
       "    </tr>\n",
       "    <tr>\n",
       "      <th rowspan=\"7\" valign=\"top\">ROBBERY</th>\n",
       "      <th>Friday</th>\n",
       "      <td>29102</td>\n",
       "    </tr>\n",
       "    <tr>\n",
       "      <th>Monday</th>\n",
       "      <td>28641</td>\n",
       "    </tr>\n",
       "    <tr>\n",
       "      <th>Saturday</th>\n",
       "      <td>26866</td>\n",
       "    </tr>\n",
       "    <tr>\n",
       "      <th>Sunday</th>\n",
       "      <td>25967</td>\n",
       "    </tr>\n",
       "    <tr>\n",
       "      <th>Thursday</th>\n",
       "      <td>27297</td>\n",
       "    </tr>\n",
       "    <tr>\n",
       "      <th>Tuesday</th>\n",
       "      <td>28069</td>\n",
       "    </tr>\n",
       "    <tr>\n",
       "      <th>Wednesday</th>\n",
       "      <td>27776</td>\n",
       "    </tr>\n",
       "  </tbody>\n",
       "</table>\n",
       "</div>"
      ],
      "text/plain": [
       "                                            day_of_week\n",
       "offense                        day_of_week             \n",
       "BURGLARY                       Friday             34046\n",
       "                               Monday             28288\n",
       "                               Saturday           22518\n",
       "                               Sunday             18327\n",
       "                               Thursday           28497\n",
       "                               Tuesday            27562\n",
       "                               Wednesday          29164\n",
       "FELONY ASSAULT                 Friday             24753\n",
       "                               Monday             23399\n",
       "                               Saturday           31348\n",
       "                               Sunday             32622\n",
       "                               Thursday           22672\n",
       "                               Tuesday            22993\n",
       "                               Wednesday          22578\n",
       "GRAND LARCENY                  Friday             68063\n",
       "                               Monday             60433\n",
       "                               Saturday           58210\n",
       "                               Sunday             49075\n",
       "                               Thursday           61065\n",
       "                               Tuesday            59818\n",
       "                               Wednesday          60861\n",
       "GRAND LARCENY OF MOTOR VEHICLE Friday             15526\n",
       "                               Monday             14411\n",
       "                               Saturday           14450\n",
       "                               Sunday             13542\n",
       "                               Thursday           14109\n",
       "                               Tuesday            13813\n",
       "                               Wednesday          13984\n",
       "MURDER & NON-NEGL. MANSLAUGHTE Friday               631\n",
       "                               Monday               591\n",
       "                               Saturday             811\n",
       "                               Sunday               829\n",
       "                               Thursday             539\n",
       "                               Tuesday              538\n",
       "                               Wednesday            536\n",
       "RAPE                           Friday              2026\n",
       "                               Monday              1796\n",
       "                               Saturday            2264\n",
       "                               Sunday              2191\n",
       "                               Thursday            1741\n",
       "                               Tuesday             1734\n",
       "                               Wednesday           1733\n",
       "ROBBERY                        Friday             29102\n",
       "                               Monday             28641\n",
       "                               Saturday           26866\n",
       "                               Sunday             25967\n",
       "                               Thursday           27297\n",
       "                               Tuesday            28069\n",
       "                               Wednesday          27776"
      ]
     },
     "execution_count": 15,
     "metadata": {},
     "output_type": "execute_result"
    }
   ],
   "source": [
    "#Bivariate Analysis\n",
    "#We wanted to see if there were any trends between the offense and day of the week\n",
    "counts = df.groupby(['offense','day_of_week'])[['day_of_week']].count()\n",
    "print('Count of each felony with respect to the day of the week')\n",
    "counts"
   ]
  },
  {
   "cell_type": "code",
   "execution_count": 16,
   "metadata": {},
   "outputs": [
    {
     "name": "stdout",
     "output_type": "stream",
     "text": [
      "Count of each felony with respect to month\n"
     ]
    },
    {
     "data": {
      "text/html": [
       "<div>\n",
       "<style scoped>\n",
       "    .dataframe tbody tr th:only-of-type {\n",
       "        vertical-align: middle;\n",
       "    }\n",
       "\n",
       "    .dataframe tbody tr th {\n",
       "        vertical-align: top;\n",
       "    }\n",
       "\n",
       "    .dataframe thead th {\n",
       "        text-align: right;\n",
       "    }\n",
       "</style>\n",
       "<table border=\"1\" class=\"dataframe\">\n",
       "  <thead>\n",
       "    <tr style=\"text-align: right;\">\n",
       "      <th></th>\n",
       "      <th></th>\n",
       "      <th>offense</th>\n",
       "    </tr>\n",
       "    <tr>\n",
       "      <th>occurrence_month</th>\n",
       "      <th>offense</th>\n",
       "      <th></th>\n",
       "    </tr>\n",
       "  </thead>\n",
       "  <tbody>\n",
       "    <tr>\n",
       "      <th rowspan=\"5\" valign=\"top\">Apr</th>\n",
       "      <th>BURGLARY</th>\n",
       "      <td>13550</td>\n",
       "    </tr>\n",
       "    <tr>\n",
       "      <th>FELONY ASSAULT</th>\n",
       "      <td>14460</td>\n",
       "    </tr>\n",
       "    <tr>\n",
       "      <th>GRAND LARCENY</th>\n",
       "      <td>31875</td>\n",
       "    </tr>\n",
       "    <tr>\n",
       "      <th>GRAND LARCENY OF MOTOR VEHICLE</th>\n",
       "      <td>7667</td>\n",
       "    </tr>\n",
       "    <tr>\n",
       "      <th>MURDER &amp; NON-NEGL. MANSLAUGHTE</th>\n",
       "      <td>329</td>\n",
       "    </tr>\n",
       "    <tr>\n",
       "      <th>...</th>\n",
       "      <th>...</th>\n",
       "      <td>...</td>\n",
       "    </tr>\n",
       "    <tr>\n",
       "      <th rowspan=\"5\" valign=\"top\">Sep</th>\n",
       "      <th>GRAND LARCENY</th>\n",
       "      <td>36821</td>\n",
       "    </tr>\n",
       "    <tr>\n",
       "      <th>GRAND LARCENY OF MOTOR VEHICLE</th>\n",
       "      <td>9299</td>\n",
       "    </tr>\n",
       "    <tr>\n",
       "      <th>MURDER &amp; NON-NEGL. MANSLAUGHTE</th>\n",
       "      <td>402</td>\n",
       "    </tr>\n",
       "    <tr>\n",
       "      <th>RAPE</th>\n",
       "      <td>1143</td>\n",
       "    </tr>\n",
       "    <tr>\n",
       "      <th>ROBBERY</th>\n",
       "      <td>17443</td>\n",
       "    </tr>\n",
       "  </tbody>\n",
       "</table>\n",
       "<p>84 rows × 1 columns</p>\n",
       "</div>"
      ],
      "text/plain": [
       "                                                 offense\n",
       "occurrence_month offense                                \n",
       "Apr              BURGLARY                          13550\n",
       "                 FELONY ASSAULT                    14460\n",
       "                 GRAND LARCENY                     31875\n",
       "                 GRAND LARCENY OF MOTOR VEHICLE     7667\n",
       "                 MURDER & NON-NEGL. MANSLAUGHTE      329\n",
       "...                                                  ...\n",
       "Sep              GRAND LARCENY                     36821\n",
       "                 GRAND LARCENY OF MOTOR VEHICLE     9299\n",
       "                 MURDER & NON-NEGL. MANSLAUGHTE      402\n",
       "                 RAPE                               1143\n",
       "                 ROBBERY                           17443\n",
       "\n",
       "[84 rows x 1 columns]"
      ]
     },
     "execution_count": 16,
     "metadata": {},
     "output_type": "execute_result"
    }
   ],
   "source": [
    "#We wanted to see if there were any trends between the offense and month \n",
    "counts = df.groupby(['occurrence_month','offense'])[['offense']].count()\n",
    "print('Count of each felony with respect to month')\n",
    "counts"
   ]
  },
  {
   "cell_type": "code",
   "execution_count": 17,
   "metadata": {},
   "outputs": [
    {
     "name": "stdout",
     "output_type": "stream",
     "text": [
      "Count of each felony with respect to month\n"
     ]
    },
    {
     "data": {
      "text/html": [
       "<div>\n",
       "<style scoped>\n",
       "    .dataframe tbody tr th:only-of-type {\n",
       "        vertical-align: middle;\n",
       "    }\n",
       "\n",
       "    .dataframe tbody tr th {\n",
       "        vertical-align: top;\n",
       "    }\n",
       "\n",
       "    .dataframe thead th {\n",
       "        text-align: right;\n",
       "    }\n",
       "</style>\n",
       "<table border=\"1\" class=\"dataframe\">\n",
       "  <thead>\n",
       "    <tr style=\"text-align: right;\">\n",
       "      <th></th>\n",
       "      <th></th>\n",
       "      <th>offense</th>\n",
       "    </tr>\n",
       "    <tr>\n",
       "      <th>borough</th>\n",
       "      <th>offense</th>\n",
       "      <th></th>\n",
       "    </tr>\n",
       "  </thead>\n",
       "  <tbody>\n",
       "    <tr>\n",
       "      <th rowspan=\"7\" valign=\"top\">BRONX</th>\n",
       "      <th>BURGLARY</th>\n",
       "      <td>33262</td>\n",
       "    </tr>\n",
       "    <tr>\n",
       "      <th>FELONY ASSAULT</th>\n",
       "      <td>47091</td>\n",
       "    </tr>\n",
       "    <tr>\n",
       "      <th>GRAND LARCENY</th>\n",
       "      <td>53479</td>\n",
       "    </tr>\n",
       "    <tr>\n",
       "      <th>GRAND LARCENY OF MOTOR VEHICLE</th>\n",
       "      <td>21742</td>\n",
       "    </tr>\n",
       "    <tr>\n",
       "      <th>MURDER &amp; NON-NEGL. MANSLAUGHTE</th>\n",
       "      <td>1168</td>\n",
       "    </tr>\n",
       "    <tr>\n",
       "      <th>RAPE</th>\n",
       "      <td>2968</td>\n",
       "    </tr>\n",
       "    <tr>\n",
       "      <th>ROBBERY</th>\n",
       "      <td>44440</td>\n",
       "    </tr>\n",
       "    <tr>\n",
       "      <th rowspan=\"7\" valign=\"top\">BROOKLYN</th>\n",
       "      <th>BURGLARY</th>\n",
       "      <td>65295</td>\n",
       "    </tr>\n",
       "    <tr>\n",
       "      <th>FELONY ASSAULT</th>\n",
       "      <td>61467</td>\n",
       "    </tr>\n",
       "    <tr>\n",
       "      <th>GRAND LARCENY</th>\n",
       "      <td>112382</td>\n",
       "    </tr>\n",
       "    <tr>\n",
       "      <th>GRAND LARCENY OF MOTOR VEHICLE</th>\n",
       "      <td>32678</td>\n",
       "    </tr>\n",
       "    <tr>\n",
       "      <th>MURDER &amp; NON-NEGL. MANSLAUGHTE</th>\n",
       "      <td>1788</td>\n",
       "    </tr>\n",
       "    <tr>\n",
       "      <th>RAPE</th>\n",
       "      <td>4025</td>\n",
       "    </tr>\n",
       "    <tr>\n",
       "      <th>ROBBERY</th>\n",
       "      <td>68048</td>\n",
       "    </tr>\n",
       "    <tr>\n",
       "      <th rowspan=\"7\" valign=\"top\">MANHATTAN</th>\n",
       "      <th>BURGLARY</th>\n",
       "      <td>34551</td>\n",
       "    </tr>\n",
       "    <tr>\n",
       "      <th>FELONY ASSAULT</th>\n",
       "      <td>32165</td>\n",
       "    </tr>\n",
       "    <tr>\n",
       "      <th>GRAND LARCENY</th>\n",
       "      <td>163160</td>\n",
       "    </tr>\n",
       "    <tr>\n",
       "      <th>GRAND LARCENY OF MOTOR VEHICLE</th>\n",
       "      <td>10286</td>\n",
       "    </tr>\n",
       "    <tr>\n",
       "      <th>MURDER &amp; NON-NEGL. MANSLAUGHTE</th>\n",
       "      <td>609</td>\n",
       "    </tr>\n",
       "    <tr>\n",
       "      <th>RAPE</th>\n",
       "      <td>2869</td>\n",
       "    </tr>\n",
       "    <tr>\n",
       "      <th>ROBBERY</th>\n",
       "      <td>37374</td>\n",
       "    </tr>\n",
       "    <tr>\n",
       "      <th rowspan=\"7\" valign=\"top\">QUEENS</th>\n",
       "      <th>BURGLARY</th>\n",
       "      <td>48572</td>\n",
       "    </tr>\n",
       "    <tr>\n",
       "      <th>FELONY ASSAULT</th>\n",
       "      <td>34321</td>\n",
       "    </tr>\n",
       "    <tr>\n",
       "      <th>GRAND LARCENY</th>\n",
       "      <td>77482</td>\n",
       "    </tr>\n",
       "    <tr>\n",
       "      <th>GRAND LARCENY OF MOTOR VEHICLE</th>\n",
       "      <td>31669</td>\n",
       "    </tr>\n",
       "    <tr>\n",
       "      <th>MURDER &amp; NON-NEGL. MANSLAUGHTE</th>\n",
       "      <td>764</td>\n",
       "    </tr>\n",
       "    <tr>\n",
       "      <th>RAPE</th>\n",
       "      <td>3100</td>\n",
       "    </tr>\n",
       "    <tr>\n",
       "      <th>ROBBERY</th>\n",
       "      <td>39556</td>\n",
       "    </tr>\n",
       "    <tr>\n",
       "      <th rowspan=\"7\" valign=\"top\">STATEN ISLAND</th>\n",
       "      <th>BURGLARY</th>\n",
       "      <td>6722</td>\n",
       "    </tr>\n",
       "    <tr>\n",
       "      <th>FELONY ASSAULT</th>\n",
       "      <td>5321</td>\n",
       "    </tr>\n",
       "    <tr>\n",
       "      <th>GRAND LARCENY</th>\n",
       "      <td>11022</td>\n",
       "    </tr>\n",
       "    <tr>\n",
       "      <th>GRAND LARCENY OF MOTOR VEHICLE</th>\n",
       "      <td>3460</td>\n",
       "    </tr>\n",
       "    <tr>\n",
       "      <th>MURDER &amp; NON-NEGL. MANSLAUGHTE</th>\n",
       "      <td>146</td>\n",
       "    </tr>\n",
       "    <tr>\n",
       "      <th>RAPE</th>\n",
       "      <td>523</td>\n",
       "    </tr>\n",
       "    <tr>\n",
       "      <th>ROBBERY</th>\n",
       "      <td>4300</td>\n",
       "    </tr>\n",
       "  </tbody>\n",
       "</table>\n",
       "</div>"
      ],
      "text/plain": [
       "                                              offense\n",
       "borough       offense                                \n",
       "BRONX         BURGLARY                          33262\n",
       "              FELONY ASSAULT                    47091\n",
       "              GRAND LARCENY                     53479\n",
       "              GRAND LARCENY OF MOTOR VEHICLE    21742\n",
       "              MURDER & NON-NEGL. MANSLAUGHTE     1168\n",
       "              RAPE                               2968\n",
       "              ROBBERY                           44440\n",
       "BROOKLYN      BURGLARY                          65295\n",
       "              FELONY ASSAULT                    61467\n",
       "              GRAND LARCENY                    112382\n",
       "              GRAND LARCENY OF MOTOR VEHICLE    32678\n",
       "              MURDER & NON-NEGL. MANSLAUGHTE     1788\n",
       "              RAPE                               4025\n",
       "              ROBBERY                           68048\n",
       "MANHATTAN     BURGLARY                          34551\n",
       "              FELONY ASSAULT                    32165\n",
       "              GRAND LARCENY                    163160\n",
       "              GRAND LARCENY OF MOTOR VEHICLE    10286\n",
       "              MURDER & NON-NEGL. MANSLAUGHTE      609\n",
       "              RAPE                               2869\n",
       "              ROBBERY                           37374\n",
       "QUEENS        BURGLARY                          48572\n",
       "              FELONY ASSAULT                    34321\n",
       "              GRAND LARCENY                     77482\n",
       "              GRAND LARCENY OF MOTOR VEHICLE    31669\n",
       "              MURDER & NON-NEGL. MANSLAUGHTE      764\n",
       "              RAPE                               3100\n",
       "              ROBBERY                           39556\n",
       "STATEN ISLAND BURGLARY                           6722\n",
       "              FELONY ASSAULT                     5321\n",
       "              GRAND LARCENY                     11022\n",
       "              GRAND LARCENY OF MOTOR VEHICLE     3460\n",
       "              MURDER & NON-NEGL. MANSLAUGHTE      146\n",
       "              RAPE                                523\n",
       "              ROBBERY                            4300"
      ]
     },
     "execution_count": 17,
     "metadata": {},
     "output_type": "execute_result"
    }
   ],
   "source": [
    "#We wanted to see if there were any trends between the offense and month \n",
    "counts = df.groupby(['borough','offense'])[['offense']].count()\n",
    "print('Count of each felony with respect to month')\n",
    "counts"
   ]
  },
  {
   "cell_type": "code",
   "execution_count": 18,
   "metadata": {},
   "outputs": [
    {
     "data": {
      "text/plain": [
       "Non-Violent Crimes    705762\n",
       "Violent Crimes        392043\n",
       "Name: label, dtype: int64"
      ]
     },
     "execution_count": 18,
     "metadata": {},
     "output_type": "execute_result"
    }
   ],
   "source": [
    "#Feature Engineering\n",
    "#To accurately represent the structure of the data and create the best model. \n",
    "def converttoclasslabels(s):\n",
    "      if s in[\"GRAND LARCENY\", 'BURGLARY', 'GRAND LARCENY OF MOTOR VEHICLE']:\n",
    "        s = \"Non-Violent Crimes\"\n",
    "        return s\n",
    "      else:   \n",
    "        return \"Violent Crimes\"\n",
    "\n",
    "df['label'] = df['offense'].map(converttoclasslabels)\n",
    "df['label'].value_counts()"
   ]
  },
  {
   "cell_type": "code",
   "execution_count": 19,
   "metadata": {},
   "outputs": [],
   "source": [
    "# We need to do one hot encoding because we have categorical variables.\n",
    "df['day_of_week'] = pd.Categorical(df['day_of_week'])\n",
    "df['occurrence_month'] = pd.Categorical(df['occurrence_month'])\n",
    "df['binned_hours'] = pd.Categorical(df['binned_hours'])\n",
    "df['sector'] = pd.Categorical(df['sector'])\n",
    "df['precinct'] = pd.Categorical(df['precinct'])\n",
    "df['borough'] = pd.Categorical(df['borough'])\n",
    "df['jurisdiction'] = pd.Categorical(df['jurisdiction'])\n"
   ]
  },
  {
   "cell_type": "code",
   "execution_count": 20,
   "metadata": {},
   "outputs": [],
   "source": [
    "dfDummies = pd.get_dummies(df['day_of_week'], prefix = 'category')\n",
    "df = pd.concat([df, dfDummies], axis=1)\n",
    "\n",
    "dfDummies = pd.get_dummies(df['occurrence_month'], prefix = 'category')\n",
    "df = pd.concat([df, dfDummies], axis=1)\n",
    "\n",
    "dfDummies = pd.get_dummies(df['binned_hours'], prefix = 'category')\n",
    "df = pd.concat([df, dfDummies], axis=1)\n",
    "\n",
    "dfDummies = pd.get_dummies(df['sector'], prefix = 'category')\n",
    "df = pd.concat([df, dfDummies], axis=1)\n",
    "\n",
    "dfDummies = pd.get_dummies(df['precinct'], prefix = 'category')\n",
    "df = pd.concat([df, dfDummies], axis=1)\n",
    "\n",
    "dfDummies = pd.get_dummies(df['borough'], prefix = 'category')\n",
    "df = pd.concat([df, dfDummies], axis=1)\n",
    "\n",
    "dfDummies = pd.get_dummies(df['jurisdiction'], prefix = 'category')\n",
    "df = pd.concat([df, dfDummies], axis=1)\n",
    "\n",
    "\n"
   ]
  },
  {
   "cell_type": "code",
   "execution_count": 21,
   "metadata": {},
   "outputs": [
    {
     "data": {
      "text/plain": [
       "Index(['label', 'category_Friday', 'category_Monday', 'category_Saturday',\n",
       "       'category_Sunday', 'category_Thursday', 'category_Tuesday',\n",
       "       'category_Wednesday', 'category_Apr', 'category_Aug',\n",
       "       ...\n",
       "       'category_NEW YORK CITY SHERIFF OFFICE',\n",
       "       'category_NYC DEPT ENVIRONMENTAL PROTECTION',\n",
       "       'category_NYS DEPT TAX && FINANCE', 'category_OTHER',\n",
       "       'category_POLICE DEPT NYC', 'category_PORT AUTHORITY',\n",
       "       'category_SEA GATE POLICE DEPT', 'category_STATN IS RAPID TRANS',\n",
       "       'category_TRI-BORO BRDG TUNNL', 'category_U.S. PARK POLICE'],\n",
       "      dtype='object', length=160)"
      ]
     },
     "execution_count": 21,
     "metadata": {},
     "output_type": "execute_result"
    }
   ],
   "source": [
    "df = df.drop(['day_of_week','occurrence_month','binned_hours','occurrence_hour','offense', 'sector', 'precinct','borough','jurisdiction'], axis = 1)\n",
    "df.columns"
   ]
  },
  {
   "cell_type": "code",
   "execution_count": 27,
   "metadata": {},
   "outputs": [
    {
     "name": "stdout",
     "output_type": "stream",
     "text": [
      "Training is 735529\n",
      "Test is  362276\n"
     ]
    },
    {
     "data": {
      "text/plain": [
       "Index(['category_Friday', 'category_Monday', 'category_Saturday',\n",
       "       'category_Sunday', 'category_Thursday', 'category_Tuesday',\n",
       "       'category_Wednesday', 'category_Apr', 'category_Aug', 'category_Dec',\n",
       "       ...\n",
       "       'category_NEW YORK CITY SHERIFF OFFICE',\n",
       "       'category_NYC DEPT ENVIRONMENTAL PROTECTION',\n",
       "       'category_NYS DEPT TAX && FINANCE', 'category_OTHER',\n",
       "       'category_POLICE DEPT NYC', 'category_PORT AUTHORITY',\n",
       "       'category_SEA GATE POLICE DEPT', 'category_STATN IS RAPID TRANS',\n",
       "       'category_TRI-BORO BRDG TUNNL', 'category_U.S. PARK POLICE'],\n",
       "      dtype='object', length=159)"
      ]
     },
     "execution_count": 27,
     "metadata": {},
     "output_type": "execute_result"
    }
   ],
   "source": [
    "#Decision Trees\n",
    "\n",
    "#splitting labels and feature values\n",
    "data_Y = df['label']\n",
    "data_X = df.drop(['label'], axis = 1)\n",
    "\n",
    "X_train, X_test, y_train, y_test = train_test_split(data_X, data_Y, test_size=0.33, random_state=None)\n",
    "\n",
    "print(\"Training is\", len(X_train))\n",
    "print(\"Test is \",len(X_test))\n",
    "\n",
    "data_X.columns"
   ]
  },
  {
   "cell_type": "code",
   "execution_count": 28,
   "metadata": {},
   "outputs": [],
   "source": [
    "#We don't need PCA in decision trees.\n",
    "# Create a decision tree\n",
    "clf = tree.DecisionTreeClassifier(criterion='entropy')\n",
    "clf = clf.fit(X_train, y_train)\n",
    "\n"
   ]
  },
  {
   "cell_type": "code",
   "execution_count": 29,
   "metadata": {},
   "outputs": [
    {
     "name": "stdout",
     "output_type": "stream",
     "text": [
      "Accuracy on test data is: 64.82102043745653\n"
     ]
    }
   ],
   "source": [
    "pred_Y = clf.predict(X_test)\n",
    "from sklearn.metrics import accuracy_score\n",
    "\n",
    "print('Accuracy on test data is:', (accuracy_score(y_test, pred_Y)*100))"
   ]
  },
  {
   "cell_type": "code",
   "execution_count": 30,
   "metadata": {},
   "outputs": [
    {
     "name": "stdout",
     "output_type": "stream",
     "text": [
      "DecisionTreeClassifier(class_weight=None, criterion='gini', max_depth=None,\n",
      "            max_features=None, max_leaf_nodes=None,\n",
      "            min_impurity_decrease=0.0, min_impurity_split=None,\n",
      "            min_samples_leaf=1, min_samples_split=2,\n",
      "            min_weight_fraction_leaf=0.0, presort=False, random_state=None,\n",
      "            splitter='best')\n",
      "Scores: [0.65214698 0.64817548 0.64360864 0.64946256 0.64954454 0.64933503\n",
      " 0.64559118 0.64878849 0.64895245 0.64744034]\n",
      "Accuracy: 64.83045689073114\n"
     ]
    }
   ],
   "source": [
    "#I assisted my other group members running various predictive models with cross validation."
   ]
  }
 ],
 "metadata": {
  "kernelspec": {
   "display_name": "Python 3",
   "language": "python",
   "name": "python3"
  },
  "language_info": {
   "codemirror_mode": {
    "name": "ipython",
    "version": 3
   },
   "file_extension": ".py",
   "mimetype": "text/x-python",
   "name": "python",
   "nbconvert_exporter": "python",
   "pygments_lexer": "ipython3",
   "version": "3.7.3"
  }
 },
 "nbformat": 4,
 "nbformat_minor": 2
}
